{
 "cells": [
  {
   "cell_type": "code",
   "execution_count": 44,
   "metadata": {},
   "outputs": [],
   "source": [
    "import pandas as pd\n",
    "import geopandas as gpd"
   ]
  },
  {
   "cell_type": "code",
   "execution_count": 59,
   "metadata": {},
   "outputs": [],
   "source": [
    "hl_2021 = pd.read_excel(r\"homeless.xlsx\", sheet_name=\"Table_5.3\")\n",
    "hl_2016 = pd.read_excel(r\"homeless.xlsx\", sheet_name=\"Table_5.4\")\n",
    "SA2 = pd.read_excel(r\"SA2_perth.xlsx\")\n",
    "hl_2021 = hl_2021.iloc[4:]\n",
    "hl_2021.columns=hl_2021.iloc[0]\n",
    "hl_2016 = hl_2016.iloc[4:]\n",
    "hl_2016.columns=hl_2016.iloc[0]\n",
    "merged = pd.merge(left=SA2, right=hl_2021, right_on=\"SA2\", left_on = \"SA2_NAME21\")\n",
    "merged = merged[[\"SA2_CODE21\", \"SA2_NAME21\", \"no.\"]]\n",
    "merged = pd.merge(left=merged, right=hl_2016, right_on=\"SA2\", left_on = \"SA2_NAME21\")"
   ]
  },
  {
   "cell_type": "code",
   "execution_count": 63,
   "metadata": {},
   "outputs": [],
   "source": [
    "merged = merged[['SA2_CODE21', 'SA2_NAME21', 'no._x', 'no._y']]\n",
    "merged.columns = ['SA2_CODE21', 'SA2_NAME21', 'homeless_2021', 'homeless_2016']"
   ]
  },
  {
   "cell_type": "code",
   "execution_count": 65,
   "metadata": {},
   "outputs": [],
   "source": [
    "merged.to_csv(r\"homeless_cleaned.csv\")"
   ]
  }
 ],
 "metadata": {
  "kernelspec": {
   "display_name": "Python 3",
   "language": "python",
   "name": "python3"
  },
  "language_info": {
   "codemirror_mode": {
    "name": "ipython",
    "version": 3
   },
   "file_extension": ".py",
   "mimetype": "text/x-python",
   "name": "python",
   "nbconvert_exporter": "python",
   "pygments_lexer": "ipython3",
   "version": "3.10.6"
  },
  "orig_nbformat": 4,
  "vscode": {
   "interpreter": {
    "hash": "916dbcbb3f70747c44a77c7bcd40155683ae19c65e1c03b4aa3499c5328201f1"
   }
  }
 },
 "nbformat": 4,
 "nbformat_minor": 2
}
