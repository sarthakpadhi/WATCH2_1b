{
 "cells": [
  {
   "cell_type": "code",
   "execution_count": 1,
   "metadata": {},
   "outputs": [],
   "source": [
    "import pandas as pd\n",
    "import matplotlib.pyplot as plt\n",
    "from tqdm import tqdm\n",
    "import geopandas as gpd\n",
    "import numpy as np\n",
    "import warnings\n",
    "warnings.filterwarnings('ignore')"
   ]
  },
  {
   "cell_type": "code",
   "execution_count": 9,
   "metadata": {},
   "outputs": [],
   "source": [
    "suburb_gpd = gpd.read_file(r\"../Shapefiles/Suburbs_2021\")\n",
    "suburb_master = pd.read_excel(r\"../suburbs_compressed.xlsx\", sheet_name=\"Crime Dataset\")\n",
    "SAL_code = pd.read_csv(r\"../SubSAL_code.csv\")"
   ]
  },
  {
   "cell_type": "code",
   "execution_count": 10,
   "metadata": {},
   "outputs": [],
   "source": [
    "suburb_feat = suburb_master[[\"Assault (Family)_2015-16_August\", \"Suburbs\"]]\n",
    "suburb_feat_SAL = pd.merge(left=suburb_feat, right=SAL_code,how=\"left\", left_on=\"Suburbs\", right_on=\"0\")"
   ]
  },
  {
   "cell_type": "code",
   "execution_count": 11,
   "metadata": {},
   "outputs": [],
   "source": [
    "suburb_feat_SAL = suburb_feat_SAL[[\"Assault (Family)_2015-16_August\", \"SAL_CODE\"]]\n",
    "sal_with_feat = pd.merge(left=suburb_gpd, right=suburb_feat_SAL, how=\"left\", left_on=\"SAL_CODE21\", right_on=\"SAL_CODE\")\n",
    "sal_with_feat.dropna(inplace=True)\n",
    "sal_with_feat[\"Radius\"] = (sal_with_feat[\"SHAPE_Area\"]/3.14)**0.5"
   ]
  },
  {
   "cell_type": "code",
   "execution_count": 12,
   "metadata": {},
   "outputs": [],
   "source": [
    "import numpy as np\n",
    "import matplotlib.pyplot as plt\n",
    "from matplotlib import cm\n",
    "from mpl_toolkits.mplot3d import Axes3D\n",
    "\n",
    "# Our 2-dimensional distribution will be over variables X and Y\n",
    "N = 40\n",
    "X = np.linspace(-5, 5, N)\n",
    "Y = np.linspace(-5, 5, N)\n",
    "X, Y = np.meshgrid(X, Y)\n",
    "\n",
    "# Mean vector and covariance matrix\n",
    "mu = np.array([0., 0.])\n",
    "Sigma = np.array([[ 1. , -0.5], [-0.5,  1.]])\n",
    "\n",
    "# Pack X and Y into a single 3-dimensional array\n",
    "pos = np.empty(X.shape + (2,))\n",
    "pos[:, :, 0] = X\n",
    "pos[:, :, 1] = Y\n",
    "\n",
    "def multivariate_gaussian(pos, mu, Sigma):\n",
    "    \"\"\"Return the multivariate Gaussian distribution on array pos.\"\"\"\n",
    "\n",
    "    n = mu.shape[0]\n",
    "    Sigma_det = np.linalg.det(Sigma)\n",
    "    Sigma_inv = np.linalg.inv(Sigma)\n",
    "    N = np.sqrt((2*np.pi)**n * Sigma_det)\n",
    "    # This einsum call calculates (x-mu)T.Sigma-1.(x-mu) in a vectorized\n",
    "    # way across all the input variables.\n",
    "    fac = np.einsum('...k,kl,...l->...', pos-mu, Sigma_inv, pos-mu)\n",
    "\n",
    "    return np.exp(-fac / 2) / N\n",
    "\n",
    "# The distribution on the variables X, Y packed into pos.\n",
    "Z = multivariate_gaussian(pos, mu, Sigma)\n",
    "\n",
    "mu2 = np.array([1, 2])\n",
    "Sigma2 = np.array([[ 2. , 0], [0,  2.]])\n",
    "pos2 = np.empty(X.shape + (2,))\n",
    "pos2[:, :, 0] = X\n",
    "pos2[:, :, 1] = Y\n",
    "z_2 = multivariate_gaussian(pos2, mu2, Sigma2)\n"
   ]
  },
  {
   "cell_type": "code",
   "execution_count": 6,
   "metadata": {},
   "outputs": [
    {
     "name": "stderr",
     "output_type": "stream",
     "text": [
      "qt.qpa.plugin: Could not find the Qt platform plugin \"wayland\" in \"\"\n",
      "100%|██████████| 7/7 [00:02<00:00,  3.17it/s]\n"
     ]
    }
   ],
   "source": [
    "%matplotlib qt\n",
    "import matplotlib.pyplot as plt\n",
    "from scipy import stats\n",
    "\n",
    "xmin = sal_with_feat.centroid.x.min()\n",
    "xmax = sal_with_feat.centroid.x.max()\n",
    "ymin = sal_with_feat.centroid.y.min()\n",
    "ymax = sal_with_feat.centroid.y.max()\n",
    "\n",
    "X, Y = np.mgrid[xmin:xmax:1000j, ymin:ymax:1000j]\n",
    "positions = np.vstack([X.ravel(), Y.ravel()])\n",
    "Z = []\n",
    "\n",
    "for i in tqdm(range(len(sal_with_feat))):\n",
    "# for i in range(0, 2):\n",
    "    # print(i)\n",
    "    m1, m2,feat, radius = sal_with_feat.centroid.x.iloc[i], sal_with_feat.centroid.y.iloc[i], sal_with_feat[\"Assault (Family)_2015-16_August\"].iloc[i], sal_with_feat.Radius.iloc[i]\n",
    "    mu = np.array([m1, m2])\n",
    "    Sigma = np.array([[ 1. , 0], [0,  1.]])*radius*0.05\n",
    "\n",
    "    # Pack X and Y into a single 3-dimensional array\n",
    "    pos = np.empty(X.shape + (2,))\n",
    "    pos[:, :, 0] = X\n",
    "    pos[:, :, 1] = Y\n",
    "        \n",
    "    Z.append( multivariate_gaussian(pos, mu, Sigma))\n"
   ]
  },
  {
   "cell_type": "code",
   "execution_count": 11,
   "metadata": {},
   "outputs": [],
   "source": [
    "result = np.sum(Z, axis=0)\n",
    "##result is the  final heatmap\n",
    "fig, ax = plt.subplots()\n",
    "sal_with_feat.plot(ax=ax, color = \"None\")\n",
    "ax.imshow(np.rot90(result), cmap=plt.cm.gist_earth_r,\n",
    "          extent=[xmin, xmax, ymin, ymax])\n",
    "ax.plot(m1, m2, 'k.', markersize=2)\n",
    "ax.set_xlim([xmin, xmax])\n",
    "ax.set_ylim([ymin, ymax])\n",
    "sal_with_feat.centroid.plot(ax=ax, color=\"DarkBlue\",markersize =1)\n",
    "plt.show()"
   ]
  }
 ],
 "metadata": {
  "kernelspec": {
   "display_name": "Python 3",
   "language": "python",
   "name": "python3"
  },
  "language_info": {
   "codemirror_mode": {
    "name": "ipython",
    "version": 3
   },
   "file_extension": ".py",
   "mimetype": "text/x-python",
   "name": "python",
   "nbconvert_exporter": "python",
   "pygments_lexer": "ipython3",
   "version": "3.10.6"
  },
  "orig_nbformat": 4,
  "vscode": {
   "interpreter": {
    "hash": "916dbcbb3f70747c44a77c7bcd40155683ae19c65e1c03b4aa3499c5328201f1"
   }
  }
 },
 "nbformat": 4,
 "nbformat_minor": 2
}
