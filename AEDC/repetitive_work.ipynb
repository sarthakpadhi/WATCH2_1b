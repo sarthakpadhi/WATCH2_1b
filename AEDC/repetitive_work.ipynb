{
 "cells": [
  {
   "cell_type": "code",
   "execution_count": 4,
   "metadata": {},
   "outputs": [],
   "source": [
    "\n"
   ]
  },
  {
   "cell_type": "code",
   "execution_count": 12,
   "metadata": {},
   "outputs": [
    {
     "name": "stdout",
     "output_type": "stream",
     "text": [
      "['SA2_Code', 'Name', 'AEDC_Emotional_children_with_valid_scores_2009', 'AEDC_Emotional_children_with_valid_scores_2012', 'AEDC_Emotional_children_with_valid_scores_2015', 'AEDC_Emotional_children_with_valid_scores_2018', 'AEDC_Emotional_children_with_valid_scores_2021', 'AEDC_Emotional_number_on_track_2009', 'AEDC_Emotional_percentage_on_track_2009', 'AEDC_Emotional_number_at_risk_2009', 'AEDC_Emotional_percentage_at_risk_2009', 'AEDC_Emotional_number_vulnerable_2009', 'AEDC_Emotional_percentage vulnerable_2009', 'AEDC_Emotional_number_on_track_2012', 'AEDC_Emotional_percentage_on_track_2012', 'AEDC_Emotional_number_at_risk_2012', 'AEDC_Emotional_percentage_at_risk_2012', 'AEDC_Emotional_number_vulnerable_2012', 'AEDC_Emotional_percentage vulnerable_2012', 'AEDC_Emotional_number_on_track_2015', 'AEDC_Emotional_percentage_on_track_2015', 'AEDC_Emotional_number_at_risk_2015', 'AEDC_Emotional_percentage_at_risk_2015', 'AEDC_Emotional_number_vulnerable_2015', 'AEDC_Emotional_percentage vulnerable_2015', 'AEDC_Emotional_number_on_track_2018', 'AEDC_Emotional_percentage_on_track_2018', 'AEDC_Emotional_number_at_risk_2018', 'AEDC_Emotional_percentage_at_risk_2018', 'AEDC_Emotional_number_vulnerable_2018', 'AEDC_Emotional_percentage vulnerable_2018', 'AEDC_Emotional_number_on_track_2021', 'AEDC_Emotional_percentage_on_track_2021', 'AEDC_Emotional_number_at_risk_2021', 'AEDC_Emotional_percentage_at_risk_2021', 'AEDC_Emotional_number_vulnerable_2021', 'AEDC_Emotional_percentage vulnerable_2021']\n"
     ]
    }
   ],
   "source": [
    "s = \"children_with_valid_scores\"\n",
    "years = [\"2009\", \"2012\", \"2015\",\"2018\", \"2021\"]\n",
    "attri = \"AEDC_\"+ sheet +\"_\"\n",
    "out = [\"SA2_Code\", \n",
    "         \"Name\"]\n",
    "for i in years:\n",
    "    out.append(attri+s+\"_\"+i)\n",
    "\n",
    "\n",
    "other= [\"number_on_track\",\n",
    "\"percentage_on_track\",\n",
    "\"number_at_risk\", \n",
    "\"percentage_at_risk\", \n",
    "\"number_vulnerable\", \"percentage vulnerable\"]\n",
    "years = [\"2009\", \"2012\", \"2015\",\"2018\", \"2021\"]\n",
    "for i in years:\n",
    "    for j in other:\n",
    "        out.append(attri+j+\"_\"+i)\n",
    "print(out)\n"
   ]
  },
  {
   "cell_type": "code",
   "execution_count": null,
   "metadata": {},
   "outputs": [],
   "source": []
  }
 ],
 "metadata": {
  "kernelspec": {
   "display_name": "Python 3",
   "language": "python",
   "name": "python3"
  },
  "language_info": {
   "codemirror_mode": {
    "name": "ipython",
    "version": 3
   },
   "file_extension": ".py",
   "mimetype": "text/x-python",
   "name": "python",
   "nbconvert_exporter": "python",
   "pygments_lexer": "ipython3",
   "version": "3.10.6"
  },
  "orig_nbformat": 4,
  "vscode": {
   "interpreter": {
    "hash": "916dbcbb3f70747c44a77c7bcd40155683ae19c65e1c03b4aa3499c5328201f1"
   }
  }
 },
 "nbformat": 4,
 "nbformat_minor": 2
}
